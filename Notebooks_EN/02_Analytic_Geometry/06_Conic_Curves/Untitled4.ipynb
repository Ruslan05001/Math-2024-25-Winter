{
  "nbformat": 4,
  "nbformat_minor": 0,
  "metadata": {
    "colab": {
      "provenance": [],
      "authorship_tag": "ABX9TyPfeJ2EIdEHjBS3i7rl9vm8",
      "include_colab_link": true
    },
    "kernelspec": {
      "name": "python3",
      "display_name": "Python 3"
    },
    "language_info": {
      "name": "python"
    }
  },
  "cells": [
    {
      "cell_type": "markdown",
      "metadata": {
        "id": "view-in-github",
        "colab_type": "text"
      },
      "source": [
        "<a href=\"https://colab.research.google.com/github/Ruslan05001/Math-2024-25-Winter/blob/main/Notebooks_EN/02_Analytic_Geometry/06_Conic_Curves/Untitled4.ipynb\" target=\"_parent\"><img src=\"https://colab.research.google.com/assets/colab-badge.svg\" alt=\"Open In Colab\"/></a>"
      ]
    },
    {
      "cell_type": "markdown",
      "source": [
        "## Tasks related to conic sections\n",
        "\n",
        "**Visualize each task.** - Python, GeoGebra, Wolfram Alpha, ...\n",
        "\n",
        "* Find the equation of a circle with center at point $A(1,2)$ and radius $r=3$.\n",
        "* Find the equation of a parabola intersecting the $Ox$ axis at points $x=2$, $x=4$, and passing through point $y(3)=1$.\n",
        "* Find the center of the ellipse with the equation $x^2 + 4y^2 - 4x - 16y + 16 = 0$.\n",
        "* Find the slope ($m>0$) of the line $y=mx-5$ that is tangent to the circle with the equation $x^2 + y^2=1$.\n",
        "* Find the intersection points of the hyperbola $x^2 - y^2 = 1$ with the ellipse's line $x^2 + 4y^2 = 6$.\n",
        "* For the given hyperbola $x^2 - y^2 = 1$, find the distance between its branches."
      ],
      "metadata": {
        "id": "21-wJqA08JYN"
      }
    },
    {
      "cell_type": "code",
      "source": [],
      "metadata": {
        "id": "6g-N7SfB325B",
        "outputId": "e11084ef-fd74-45ac-c06b-2a78576093ec",
        "colab": {
          "base_uri": "https://localhost:8080/",
          "height": 483
        }
      },
      "execution_count": 9,
      "outputs": [
        {
          "output_type": "display_data",
          "data": {
            "text/plain": [
              "<IPython.core.display.Markdown object>"
            ],
            "text/markdown": "### Problem:"
          },
          "metadata": {}
        },
        {
          "output_type": "display_data",
          "data": {
            "text/plain": [
              "<IPython.core.display.Markdown object>"
            ],
            "text/markdown": "Find the equation of a circle with center at point **A(1,2)** and radius **r=3**."
          },
          "metadata": {}
        },
        {
          "output_type": "display_data",
          "data": {
            "text/plain": [
              "<IPython.core.display.Markdown object>"
            ],
            "text/markdown": "### Step 1: General equation of a circle"
          },
          "metadata": {}
        },
        {
          "output_type": "display_data",
          "data": {
            "text/plain": [
              "<IPython.core.display.Markdown object>"
            ],
            "text/markdown": "The general equation of a circle is:"
          },
          "metadata": {}
        },
        {
          "output_type": "display_data",
          "data": {
            "text/plain": [
              "<IPython.core.display.Markdown object>"
            ],
            "text/markdown": "$$(x - h)^2 + (y - k)^2 = r^2$$"
          },
          "metadata": {}
        },
        {
          "output_type": "display_data",
          "data": {
            "text/plain": [
              "<IPython.core.display.Markdown object>"
            ],
            "text/markdown": "where **(h, k)** is the center of the circle, and **r** is the radius."
          },
          "metadata": {}
        },
        {
          "output_type": "display_data",
          "data": {
            "text/plain": [
              "<IPython.core.display.Markdown object>"
            ],
            "text/markdown": "### Step 2: Substitute the given values"
          },
          "metadata": {}
        },
        {
          "output_type": "display_data",
          "data": {
            "text/plain": [
              "<IPython.core.display.Markdown object>"
            ],
            "text/markdown": "Given: Center **A(1, 2)**, so **h = 1** and **k = 2**, and radius **r = 3**."
          },
          "metadata": {}
        },
        {
          "output_type": "display_data",
          "data": {
            "text/plain": [
              "<IPython.core.display.Markdown object>"
            ],
            "text/markdown": "$$(x - 1)^2 + (y - 2)^2 = 3^2$$"
          },
          "metadata": {}
        },
        {
          "output_type": "display_data",
          "data": {
            "text/plain": [
              "<IPython.core.display.Markdown object>"
            ],
            "text/markdown": "### Step 3: Simplify the radius squared"
          },
          "metadata": {}
        },
        {
          "output_type": "display_data",
          "data": {
            "text/plain": [
              "<IPython.core.display.Markdown object>"
            ],
            "text/markdown": "Simplify **r²**:"
          },
          "metadata": {}
        },
        {
          "output_type": "display_data",
          "data": {
            "text/plain": [
              "<IPython.core.display.Markdown object>"
            ],
            "text/markdown": "$$r^2 = 3^2 = 9$$"
          },
          "metadata": {}
        },
        {
          "output_type": "display_data",
          "data": {
            "text/plain": [
              "<IPython.core.display.Markdown object>"
            ],
            "text/markdown": "$$(x - 1)^2 + (y - 2)^2 = 9$$"
          },
          "metadata": {}
        },
        {
          "output_type": "display_data",
          "data": {
            "text/plain": [
              "<IPython.core.display.Markdown object>"
            ],
            "text/markdown": "### Step 4: Final equation"
          },
          "metadata": {}
        },
        {
          "output_type": "display_data",
          "data": {
            "text/plain": [
              "<IPython.core.display.Markdown object>"
            ],
            "text/markdown": "The final equation of the circle is:"
          },
          "metadata": {}
        },
        {
          "output_type": "display_data",
          "data": {
            "text/plain": [
              "<IPython.core.display.Markdown object>"
            ],
            "text/markdown": "$$(x - 1)^2 + (y - 2)^2 = 9$$"
          },
          "metadata": {}
        }
      ]
    },
    {
      "cell_type": "code",
      "source": [],
      "metadata": {
        "id": "YSxraatB5lTC",
        "outputId": "f8c21ae6-bc7d-4183-9dd4-00e83361fda2",
        "colab": {
          "base_uri": "https://localhost:8080/",
          "height": 712
        }
      },
      "execution_count": 11,
      "outputs": [
        {
          "output_type": "display_data",
          "data": {
            "text/plain": [
              "<IPython.core.display.Markdown object>"
            ],
            "text/markdown": "### Problem:"
          },
          "metadata": {}
        },
        {
          "output_type": "display_data",
          "data": {
            "text/plain": [
              "<IPython.core.display.Markdown object>"
            ],
            "text/markdown": "Find the equation of a parabola intersecting the **Ox axis** at points **x=2** and **x=4**, and passing through the point **y(3) = 1**."
          },
          "metadata": {}
        },
        {
          "output_type": "display_data",
          "data": {
            "text/plain": [
              "<IPython.core.display.Markdown object>"
            ],
            "text/markdown": "### Step 1: General form of the equation"
          },
          "metadata": {}
        },
        {
          "output_type": "display_data",
          "data": {
            "text/plain": [
              "<IPython.core.display.Markdown object>"
            ],
            "text/markdown": "The general form of the parabola is:"
          },
          "metadata": {}
        },
        {
          "output_type": "display_data",
          "data": {
            "text/plain": [
              "<IPython.core.display.Markdown object>"
            ],
            "text/markdown": "$y = a(x - 2)(x - 4)$"
          },
          "metadata": {}
        },
        {
          "output_type": "display_data",
          "data": {
            "text/plain": [
              "<IPython.core.display.Markdown object>"
            ],
            "text/markdown": "where the parabola intersects the **Ox axis** at **x=2** and **x=4**. The value **a** is a constant to be determined."
          },
          "metadata": {}
        },
        {
          "output_type": "display_data",
          "data": {
            "text/plain": [
              "<IPython.core.display.Markdown object>"
            ],
            "text/markdown": "### Step 2: Substitute the given point (3, 1)"
          },
          "metadata": {}
        },
        {
          "output_type": "display_data",
          "data": {
            "text/plain": [
              "<IPython.core.display.Markdown object>"
            ],
            "text/markdown": "We know that the parabola passes through the point **(3, 1)**, so we substitute **x=3** and **y=1** into the equation:"
          },
          "metadata": {}
        },
        {
          "output_type": "display_data",
          "data": {
            "text/plain": [
              "<IPython.core.display.Markdown object>"
            ],
            "text/markdown": "$1 = a(3 - 2)(3 - 4)$"
          },
          "metadata": {}
        },
        {
          "output_type": "display_data",
          "data": {
            "text/plain": [
              "<IPython.core.display.Markdown object>"
            ],
            "text/markdown": "### Step 3: Solve for 'a'"
          },
          "metadata": {}
        },
        {
          "output_type": "display_data",
          "data": {
            "text/plain": [
              "<IPython.core.display.Markdown object>"
            ],
            "text/markdown": "Simplifying the equation:"
          },
          "metadata": {}
        },
        {
          "output_type": "display_data",
          "data": {
            "text/plain": [
              "<IPython.core.display.Markdown object>"
            ],
            "text/markdown": "$1 = a(1)(-1)$"
          },
          "metadata": {}
        },
        {
          "output_type": "display_data",
          "data": {
            "text/plain": [
              "<IPython.core.display.Markdown object>"
            ],
            "text/markdown": "$1 = -a$"
          },
          "metadata": {}
        },
        {
          "output_type": "display_data",
          "data": {
            "text/plain": [
              "<IPython.core.display.Markdown object>"
            ],
            "text/markdown": "$a = -1$"
          },
          "metadata": {}
        },
        {
          "output_type": "display_data",
          "data": {
            "text/plain": [
              "<IPython.core.display.Markdown object>"
            ],
            "text/markdown": "### Step 4: Substitute 'a' back into the equation"
          },
          "metadata": {}
        },
        {
          "output_type": "display_data",
          "data": {
            "text/plain": [
              "<IPython.core.display.Markdown object>"
            ],
            "text/markdown": "Substitute **a = -1** back into the equation:"
          },
          "metadata": {}
        },
        {
          "output_type": "display_data",
          "data": {
            "text/plain": [
              "<IPython.core.display.Markdown object>"
            ],
            "text/markdown": "$y = -(x - 2)(x - 4)$"
          },
          "metadata": {}
        },
        {
          "output_type": "display_data",
          "data": {
            "text/plain": [
              "<IPython.core.display.Markdown object>"
            ],
            "text/markdown": "### Step 5: Expand the equation"
          },
          "metadata": {}
        },
        {
          "output_type": "display_data",
          "data": {
            "text/plain": [
              "<IPython.core.display.Markdown object>"
            ],
            "text/markdown": "Expand the equation to obtain the standard quadratic form:"
          },
          "metadata": {}
        },
        {
          "output_type": "display_data",
          "data": {
            "text/plain": [
              "<IPython.core.display.Markdown object>"
            ],
            "text/markdown": "$y = -(x^2 - 6x + 8)$"
          },
          "metadata": {}
        },
        {
          "output_type": "display_data",
          "data": {
            "text/plain": [
              "<IPython.core.display.Markdown object>"
            ],
            "text/markdown": "$y = -x^2 + 6x - 8$"
          },
          "metadata": {}
        },
        {
          "output_type": "display_data",
          "data": {
            "text/plain": [
              "<IPython.core.display.Markdown object>"
            ],
            "text/markdown": "### Final Equation"
          },
          "metadata": {}
        },
        {
          "output_type": "display_data",
          "data": {
            "text/plain": [
              "<IPython.core.display.Markdown object>"
            ],
            "text/markdown": "The final equation of the parabola is:"
          },
          "metadata": {}
        },
        {
          "output_type": "display_data",
          "data": {
            "text/plain": [
              "<IPython.core.display.Markdown object>"
            ],
            "text/markdown": "$y = -x^2 + 6x - 8$"
          },
          "metadata": {}
        }
      ]
    },
    {
      "cell_type": "code",
      "source": [],
      "metadata": {
        "id": "iFvZQpZT7Vj4",
        "outputId": "2fea528e-a39b-472a-d811-690e2bd3afec",
        "colab": {
          "base_uri": "https://localhost:8080/",
          "height": 640
        }
      },
      "execution_count": 12,
      "outputs": [
        {
          "output_type": "display_data",
          "data": {
            "text/plain": [
              "<IPython.core.display.Markdown object>"
            ],
            "text/markdown": "### Problem:"
          },
          "metadata": {}
        },
        {
          "output_type": "display_data",
          "data": {
            "text/plain": [
              "<IPython.core.display.Markdown object>"
            ],
            "text/markdown": "Find the center of the ellipse with the equation **x^2 + 4y^2 - 4x - 16y + 16 = 0**."
          },
          "metadata": {}
        },
        {
          "output_type": "display_data",
          "data": {
            "text/plain": [
              "<IPython.core.display.Markdown object>"
            ],
            "text/markdown": "### Step 1: Group the terms"
          },
          "metadata": {}
        },
        {
          "output_type": "display_data",
          "data": {
            "text/plain": [
              "<IPython.core.display.Markdown object>"
            ],
            "text/markdown": "Rearrange the given equation to group the terms involving **x** and **y**:"
          },
          "metadata": {}
        },
        {
          "output_type": "display_data",
          "data": {
            "text/plain": [
              "<IPython.core.display.Markdown object>"
            ],
            "text/markdown": "$x^2 - 4x + 4y^2 - 16y + 16 = 0$"
          },
          "metadata": {}
        },
        {
          "output_type": "display_data",
          "data": {
            "text/plain": [
              "<IPython.core.display.Markdown object>"
            ],
            "text/markdown": "### Step 2: Complete the square for the x-terms"
          },
          "metadata": {}
        },
        {
          "output_type": "display_data",
          "data": {
            "text/plain": [
              "<IPython.core.display.Markdown object>"
            ],
            "text/markdown": "To complete the square for the **x**-terms, take half of the coefficient of **x**, square it, and add and subtract it:"
          },
          "metadata": {}
        },
        {
          "output_type": "display_data",
          "data": {
            "text/plain": [
              "<IPython.core.display.Markdown object>"
            ],
            "text/markdown": "$x^2 - 4x = (x - 2)^2 - 4$"
          },
          "metadata": {}
        },
        {
          "output_type": "display_data",
          "data": {
            "text/plain": [
              "<IPython.core.display.Markdown object>"
            ],
            "text/markdown": "### Step 3: Complete the square for the y-terms"
          },
          "metadata": {}
        },
        {
          "output_type": "display_data",
          "data": {
            "text/plain": [
              "<IPython.core.display.Markdown object>"
            ],
            "text/markdown": "To complete the square for the **y**-terms, factor out **4** and then complete the square inside the parentheses:"
          },
          "metadata": {}
        },
        {
          "output_type": "display_data",
          "data": {
            "text/plain": [
              "<IPython.core.display.Markdown object>"
            ],
            "text/markdown": "$4y^2 - 16y = 4(y^2 - 4y) = 4((y - 2)^2 - 4) = 4(y - 2)^2 - 16$"
          },
          "metadata": {}
        },
        {
          "output_type": "display_data",
          "data": {
            "text/plain": [
              "<IPython.core.display.Markdown object>"
            ],
            "text/markdown": "### Step 4: Substitute the completed squares into the equation"
          },
          "metadata": {}
        },
        {
          "output_type": "display_data",
          "data": {
            "text/plain": [
              "<IPython.core.display.Markdown object>"
            ],
            "text/markdown": "Substitute the completed squares back into the equation:"
          },
          "metadata": {}
        },
        {
          "output_type": "display_data",
          "data": {
            "text/plain": [
              "<IPython.core.display.Markdown object>"
            ],
            "text/markdown": "$(x - 2)^2 - 4 + 4(y - 2)^2 - 16 + 16 = 0$"
          },
          "metadata": {}
        },
        {
          "output_type": "display_data",
          "data": {
            "text/plain": [
              "<IPython.core.display.Markdown object>"
            ],
            "text/markdown": "### Step 5: Simplify the equation"
          },
          "metadata": {}
        },
        {
          "output_type": "display_data",
          "data": {
            "text/plain": [
              "<IPython.core.display.Markdown object>"
            ],
            "text/markdown": "Simplify the equation to obtain:"
          },
          "metadata": {}
        },
        {
          "output_type": "display_data",
          "data": {
            "text/plain": [
              "<IPython.core.display.Markdown object>"
            ],
            "text/markdown": "$(x - 2)^2 + 4(y - 2)^2 = 4$"
          },
          "metadata": {}
        },
        {
          "output_type": "display_data",
          "data": {
            "text/plain": [
              "<IPython.core.display.Markdown object>"
            ],
            "text/markdown": "### Final Step: Identify the center of the ellipse"
          },
          "metadata": {}
        },
        {
          "output_type": "display_data",
          "data": {
            "text/plain": [
              "<IPython.core.display.Markdown object>"
            ],
            "text/markdown": "This equation is now in the standard form of an ellipse. The center is the point **(2, 2)**."
          },
          "metadata": {}
        },
        {
          "output_type": "display_data",
          "data": {
            "text/plain": [
              "<IPython.core.display.Markdown object>"
            ],
            "text/markdown": "### Final Answer:"
          },
          "metadata": {}
        },
        {
          "output_type": "display_data",
          "data": {
            "text/plain": [
              "<IPython.core.display.Markdown object>"
            ],
            "text/markdown": "The center of the ellipse is **(2, 2)**."
          },
          "metadata": {}
        }
      ]
    },
    {
      "cell_type": "markdown",
      "source": [
        "### Problem:\n",
        "We are given the equation of a circle x^2 + y^2 = 1 and the equation of a line y = mx - 5. We need to find the slope m > 0 of the line such that it is tangent to the circle.\n",
        "\n",
        "### Step 1: Substitute the line equation into the circle equation\n",
        "We substitute the line equation y = mx - 5 into the circle equation x^2 + y^2 = 1:\n",
        "\n",
        "x^2 + (mx - 5)^2 = 1\n",
        "\n",
        "### Step 2: Simplify the equation\n",
        "Now, expand and simplify the equation:\n",
        "\n",
        "x^2 + (m^2 * x^2 - 10 * m * x + 25) = 1\n",
        "\n",
        "Simplifying further:\n",
        "\n",
        "x^2 + m^2 * x^2 - 10 * m * x + 25 = 1\n",
        "\n",
        "Combine like terms:\n",
        "\n",
        "(1 + m^2) * x^2 - 10 * m * x + 24 = 0\n",
        "\n",
        "### Step 3: Discriminant condition for tangency\n",
        "For the line to be tangent to the circle, the quadratic equation must have exactly one solution. This means the discriminant must be zero:\n",
        "\n",
        "Delta = (-10 * m)^2 - 4 * (1 + m^2) * 24 = 0\n",
        "\n",
        "Simplifying the discriminant:\n",
        "\n",
        "100 * m^2 - 4 * (1 + m^2) * 24 = 0\n",
        "\n",
        "100 * m^2 - 96 - 96 * m^2 = 0\n",
        "\n",
        "4 * m^2 = 96\n",
        "\n",
        "m^2 = 24\n",
        "\n",
        "m = 2 * (6)^0.5\n",
        "\n",
        "### Final Answer:\n",
        "The slope of the tangent line is m = 2 * (6)^0.5.\n"
      ],
      "metadata": {
        "id": "O8365VO3_83S"
      }
    },
    {
      "cell_type": "markdown",
      "source": [
        "### Problem:\n",
        "Find the intersection points of the hyperbola x^2 - y^2 = 1 with the ellipse x^2 + 4y^2 = 6.\n",
        "\n",
        "### Step 1: System of equations\n",
        "We are solving the system of equations:\n",
        "1. x^2 - y^2 = 1\n",
        "2. x^2 + 4y^2 = 6\n",
        "\n",
        "### Step 2: Subtract the equations\n",
        "Subtract equation (1) from equation (2):\n",
        "(x^2 + 4y^2) - (x^2 - y^2) = 6 - 1  \n",
        "x^2 + 4y^2 - x^2 + y^2 = 5  \n",
        "5y^2 = 5  \n",
        "y^2 = 1\n",
        "\n",
        "### Step 3: Solve for y\n",
        "y = ±1\n",
        "\n",
        "### Step 4: Substitute y into one of the original equations\n",
        "Substitute y^2 = 1 into the hyperbola equation x^2 - y^2 = 1:\n",
        "\n",
        "For y = 1:  \n",
        "x^2 - 1 = 1  \n",
        "x^2 = 2  \n",
        "x = ±2^(1/2)\n",
        "\n",
        "For y = -1:  \n",
        "x^2 - (-1)^2 = 1  \n",
        "x^2 - 1 = 1  \n",
        "x^2 = 2  \n",
        "x = ±2^(1/2)\n",
        "\n",
        "### Step 5: Intersection points\n",
        "The intersection points are:  \n",
        "(2^(1/2), 1), (-2^(1/2), 1), (2^(1/2), -1), (-2^(1/2), -1)\n",
        "\n",
        "### Final Answer:\n",
        "The intersection points are:  \n",
        "(2^(1/2), 1), (-2^(1/2), 1), (2^(1/2), -1), (-2^(1/2), -1)\n"
      ],
      "metadata": {
        "id": "K0dJhI4UA2-X"
      }
    },
    {
      "cell_type": "markdown",
      "source": [
        "\n",
        "### Problem:\n",
        "For the hyperbola \\(x^2 - y^2 = 1\\), find the distance between its branches.\n",
        "\n",
        "---\n",
        "\n",
        "### Step 1: Understand the equation  \n",
        "The given equation of the hyperbola is:\n",
        "\n",
        "\\(x^2 - y^2 = 1\\)\n",
        "\n",
        "This is in the standard form of a hyperbola:\n",
        "\n",
        "\\(\\frac{x^2}{a^2} - \\frac{y^2}{b^2} = 1\\)\n",
        "\n",
        "From this equation:\n",
        "- \\(a^2 = 1\\) so \\(a = 1\\),\n",
        "- \\(b^2 = 1\\) so \\(b = 1\\).\n",
        "\n",
        "The transverse axis of the hyperbola lies along the \\(x\\)-axis, and the conjugate axis lies along the \\(y\\)-axis.\n",
        "\n",
        "---\n",
        "\n",
        "### Step 2: Measure the distance  \n",
        "The branches of the hyperbola are separated along the \\(y\\)-axis, which corresponds to the conjugate axis. The shortest distance between the branches is along this axis.\n",
        "\n",
        "The distance between the branches along the conjugate axis is equal to \\(2b\\), where \\(b\\) is the length of the semi-conjugate axis.\n",
        "\n",
        "---\n",
        "\n",
        "### Step 3: Calculate the distance  \n",
        "For this hyperbola, we have \\(b = 1\\), so the distance between the branches is:\n",
        "\n",
        "**Distance = 2b = 2 × 1 = 2**\n",
        "\n",
        "---\n",
        "\n",
        "### Final Answer:  \n",
        "The distance between the branches of the hyperbola is **2**.\n",
        "\n",
        "---\n",
        "\n"
      ],
      "metadata": {
        "id": "hl_nwYIgEo7a"
      }
    }
  ]
}