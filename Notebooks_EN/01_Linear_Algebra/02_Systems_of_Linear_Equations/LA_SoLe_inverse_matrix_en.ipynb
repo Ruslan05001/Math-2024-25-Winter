{
  "cells": [
    {
      "cell_type": "markdown",
      "metadata": {
        "id": "view-in-github",
        "colab_type": "text"
      },
      "source": [
        "<a href=\"https://colab.research.google.com/github/Ruslan05001/Math-2024-25-Winter/blob/main/Notebooks_EN/01_Linear_Algebra/02_Systems_of_Linear_Equations/LA_SoLe_inverse_matrix_en.ipynb\" target=\"_parent\"><img src=\"https://colab.research.google.com/assets/colab-badge.svg\" alt=\"Open In Colab\"/></a>"
      ]
    },
    {
      "cell_type": "markdown",
      "metadata": {
        "id": "yR-wu6Uf8pLF"
      },
      "source": [
        "# Solving Systems of Linear Equations Using the Inverse Matrix Method\n",
        "\n",
        "Converting a system of linear equations to matrix form allows the use of the inverse matrix to find the solution.\n",
        "\n",
        "As an example, consider $A \\cdot X = B$, where the matrix $A_{n \\times n}$ is square and non-singular, and $X$ and $B$ are column matrices:\n",
        "\n",
        "$$\n",
        "X = \\begin{bmatrix} x_1 \\\\ x_2 \\\\ \\vdots \\\\ x_n \\end{bmatrix}, \\qquad B = \\begin{bmatrix} b_1 \\\\ b_2 \\\\ \\vdots \\\\ b_n \\end{bmatrix}\n",
        "$$\n",
        "\n",
        "The solution of the system can be found by multiplying the inverse of $A$ by $B$ on the left side:\n",
        "\n",
        "$$(A^{-1} \\cdot A) \\cdot X = A^{-1} \\cdot B$$\n",
        "\n",
        "$$1 \\cdot X = A^{-1} \\cdot B$$\n",
        "\n",
        "$$X = A^{-1} \\cdot B$$\n",
        "\n",
        "**Example**\n",
        "\n",
        "Consider the system of equations:\n",
        "\n",
        "$$\n",
        "\\begin{cases}\n",
        "x + 2z = 3, \\\\\n",
        "2x + 3y + z = 0, \\\\\n",
        "x + 3z = 1.\n",
        "\\end{cases}\n",
        "$$\n",
        "\n",
        "First, write the system of equations in matrix form:\n",
        "\n",
        "$$\n",
        "\\begin{cases}\n",
        "1 \\cdot x + 0 \\cdot y + 2 \\cdot z = 3, \\\\\n",
        "2 \\cdot x + 3 \\cdot y + 1 \\cdot z = 0, \\\\\n",
        "1 \\cdot x + 0 \\cdot y + 3 \\cdot z = 1.\n",
        "\\end{cases}\n",
        "$$\n",
        "\n",
        "$$\n",
        "\\begin{bmatrix}\n",
        "1 & 0 & 2 \\\\\n",
        "2 & 3 & 1 \\\\\n",
        "1 & 0 & 3\n",
        "\\end{bmatrix}\n",
        "\\begin{bmatrix}\n",
        "x \\\\\n",
        "y \\\\\n",
        "z\n",
        "\\end{bmatrix}\n",
        "=\n",
        "\\begin{bmatrix}\n",
        "3 \\\\\n",
        "0 \\\\\n",
        "1\n",
        "\\end{bmatrix}\n",
        "$$\n",
        "\n",
        "Solve the system by multiplying by the inverse matrix (on the correct side!):\n",
        "\n",
        "$$\n",
        "\\begin{bmatrix}\n",
        "x \\\\\n",
        "y \\\\\n",
        "z\n",
        "\\end{bmatrix}\n",
        "=\n",
        "\\begin{bmatrix}\n",
        "1 & 0 & 2 \\\\\n",
        "2 & 3 & 1 \\\\\n",
        "1 & 0 & 3\n",
        "\\end{bmatrix}^{-1}\n",
        "\\begin{bmatrix}\n",
        "3 \\\\\n",
        "0 \\\\\n",
        "1\n",
        "\\end{bmatrix}\n",
        "$$\n",
        "\n",
        "Calculate the inverse matrix:\n",
        "\n",
        "$$\n",
        "\\begin{bmatrix}\n",
        "1 & 0 & 2 \\\\\n",
        "2 & 3 & 1 \\\\\n",
        "1 & 0 & 3\n",
        "\\end{bmatrix}^{-1}\n",
        "=\n",
        "\\begin{bmatrix}\n",
        " 4 &  0 & -2 \\\\\n",
        "-3 &  1 &  1 \\\\\n",
        "-1 &  0 &  1\n",
        "\\end{bmatrix}\n",
        "$$\n",
        "\n",
        "Multiply the matrices:\n",
        "\n",
        "$$\n",
        "\\begin{bmatrix}\n",
        "x \\\\\n",
        "y \\\\\n",
        "z\n",
        "\\end{bmatrix}\n",
        "=\n",
        "\\begin{bmatrix}\n",
        " 4 &  0 & -2 \\\\\n",
        "-3 &  1 &  1 \\\\\n",
        "-1 &  0 &  1\n",
        "\\end{bmatrix}\n",
        "\\begin{bmatrix}\n",
        "3 \\\\\n",
        "0 \\\\\n",
        "1\n",
        "\\end{bmatrix}\n",
        "=\n",
        "\\begin{bmatrix}\n",
        "7 \\\\\n",
        "-4 \\\\\n",
        "-2\n",
        "\\end{bmatrix}\n",
        "$$"
      ]
    },
    {
      "cell_type": "code",
      "execution_count": null,
      "metadata": {
        "id": "pTKWwFT68pLL",
        "outputId": "d85f2b4e-89d1-4634-ee85-2633cfc0d0f2"
      },
      "outputs": [
        {
          "data": {
            "text/latex": [
              "$\\displaystyle \\left[\\begin{matrix}7\\\\-4\\\\-2\\end{matrix}\\right]$"
            ],
            "text/plain": [
              "Matrix([\n",
              "[ 7],\n",
              "[-4],\n",
              "[-2]])"
            ]
          },
          "execution_count": 1,
          "metadata": {},
          "output_type": "execute_result"
        }
      ],
      "source": [
        "# ## Solving Systems of Linear Equations Using the Inverse Matrix Method\n",
        "\n",
        "import sympy as sp\n",
        "\n",
        "# Coefficient matrix\n",
        "A = sp.Matrix([\n",
        "    [1, 0, 2],\n",
        "    [2, 3, 1],\n",
        "    [1, 0, 3]\n",
        "])\n",
        "\n",
        "# Constant terms vector\n",
        "B =  sp.Matrix([\n",
        "    [3],\n",
        "    [0],\n",
        "    [1]\n",
        "])\n",
        "# Inverse matrix\n",
        "A_inv = A.inv()\n",
        "\n",
        "# Solution of the system of equations\n",
        "X = A_inv * B\n",
        "X"
      ]
    },
    {
      "cell_type": "markdown",
      "metadata": {
        "id": "yGh-ZU9Y8pLN"
      },
      "source": [
        "---\n",
        "\n",
        "## Exercises for Students\n",
        "\n",
        "1. Solve the system of linear equations using the inverse matrix method:\n",
        "\n",
        "$$\n",
        "\\begin{cases}\n",
        "x + 2y + 3z = 5, \\\\\n",
        "2y + 3z = 4, \\\\\n",
        "3z = 3.\n",
        "\\end{cases}\n",
        "$$\n",
        "\n",
        "2. Solve the system of linear equations using the inverse matrix method:\n",
        "\n",
        "$$\n",
        "\\begin{cases}\n",
        "x_1 + 2x_2 + 3x_3 = 41, \\\\\n",
        "4x_1 + 5x_2 + 6x_3 = 93, \\\\\n",
        "7x_1 + 8x_2 + 9x_3 = 145.\n",
        "\\end{cases}\n",
        "$$"
      ]
    },
    {
      "cell_type": "code",
      "source": [
        "import numpy as np\n",
        "\n",
        "# Define the coefficient matrix A and the constant matrix B\n",
        "A = np.array([[1, 2, 3],\n",
        "              [0, 2, 3],\n",
        "              [0, 0, 3]])\n",
        "\n",
        "B = np.array([5, 4, 3])\n",
        "\n",
        "# Calculate the determinant of A\n",
        "det_A = np.linalg.det(A)\n",
        "\n",
        "print(f\"Determinant of A: {det_A}\")\n",
        "\n",
        "# Check if the matrix is invertible\n",
        "if det_A != 0:\n",
        "    # Calculate the inverse of A\n",
        "    A_inv = np.linalg.inv(A)\n",
        "    # Solve for X using the inverse\n",
        "    X = A_inv.dot(B)\n",
        "    print(\"The solution is:\")\n",
        "    print(f\"x = {X[0]}, y = {X[1]}, z = {X[2]}\")\n",
        "else:\n",
        "    print(\"The matrix A is singular and does not have an inverse. The system may have no solution or infinitely many solutions.\")\n",
        "\n"
      ],
      "metadata": {
        "id": "KCtDZ1GR8z5a",
        "outputId": "9e0fddc2-379b-4c19-d1dd-76cb29d4c74f",
        "colab": {
          "base_uri": "https://localhost:8080/"
        }
      },
      "execution_count": 3,
      "outputs": [
        {
          "output_type": "stream",
          "name": "stdout",
          "text": [
            "Determinant of A: 6.0\n",
            "The solution is:\n",
            "x = 1.0, y = 0.5, z = 1.0\n"
          ]
        }
      ]
    },
    {
      "cell_type": "code",
      "source": [
        "import numpy as np\n",
        "\n",
        "# Define the coefficient matrix A and the constant matrix B\n",
        "A = np.array([[1, 2, 3],\n",
        "              [4, 5, 6],\n",
        "              [7, 8, 9]])\n",
        "\n",
        "B = np.array([41, 93, 145])\n",
        "\n",
        "# Calculate the determinant of A\n",
        "det_A = np.linalg.det(A)\n",
        "\n",
        "print(f\"Determinant of A: {det_A}\")\n",
        "\n",
        "# Check if the matrix is invertible\n",
        "if det_A != 0:\n",
        "    # Calculate the inverse of A\n",
        "    A_inv = np.linalg.inv(A)\n",
        "    # Solve for X using the inverse\n",
        "    X = A_inv.dot(B)\n",
        "    print(\"The solution is:\")\n",
        "    print(f\"x1 = {X[0]}, x2 = {X[1]}, x3 = {X[2]}\")\n",
        "else:\n",
        "    print(\"The matrix A is singular and does not have an inverse. The system may have no solution or infinitely many solutions.\")\n",
        "\n"
      ],
      "metadata": {
        "id": "v_bm6kJ49DKN",
        "outputId": "0e54569d-0a7c-4d56-f0eb-5e6e00218027",
        "colab": {
          "base_uri": "https://localhost:8080/"
        }
      },
      "execution_count": 5,
      "outputs": [
        {
          "output_type": "stream",
          "name": "stdout",
          "text": [
            "Determinant of A: 0.0\n",
            "The matrix A is singular and does not have an inverse. The system may have no solution or infinitely many solutions.\n"
          ]
        }
      ]
    }
  ],
  "metadata": {
    "kernelspec": {
      "display_name": "Python 3",
      "language": "python",
      "name": "python3"
    },
    "language_info": {
      "codemirror_mode": {
        "name": "ipython",
        "version": 3
      },
      "file_extension": ".py",
      "mimetype": "text/x-python",
      "name": "python",
      "nbconvert_exporter": "python",
      "pygments_lexer": "ipython3",
      "version": "3.11.9"
    },
    "colab": {
      "provenance": [],
      "include_colab_link": true
    }
  },
  "nbformat": 4,
  "nbformat_minor": 0
}