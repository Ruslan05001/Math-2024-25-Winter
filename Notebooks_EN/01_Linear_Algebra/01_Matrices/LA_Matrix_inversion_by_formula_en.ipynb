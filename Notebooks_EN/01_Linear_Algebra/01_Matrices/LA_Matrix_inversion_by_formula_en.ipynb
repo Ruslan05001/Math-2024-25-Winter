{
  "cells": [
    {
      "cell_type": "markdown",
      "metadata": {
        "id": "view-in-github",
        "colab_type": "text"
      },
      "source": [
        "<a href=\"https://colab.research.google.com/github/Ruslan05001/Math-2024-25-Winter/blob/main/Notebooks_EN/01_Linear_Algebra/01_Matrices/LA_Matrix_inversion_by_formula_en.ipynb\" target=\"_parent\"><img src=\"https://colab.research.google.com/assets/colab-badge.svg\" alt=\"Open In Colab\"/></a>"
      ]
    },
    {
      "cell_type": "markdown",
      "metadata": {
        "id": "q6yw7RjnDUq-"
      },
      "source": [
        "# Matrix Inversion\n",
        "\n",
        "The inverse of a matrix $A$ is a matrix $A^{-1}$ such that $A \\cdot A^{-1} = A^{-1} \\cdot A = I$, where $I$ is the identity matrix.\n",
        "\n",
        "**Example 1:**"
      ]
    },
    {
      "cell_type": "code",
      "execution_count": null,
      "metadata": {
        "id": "udczefFVDUrA",
        "outputId": "3a3a9aea-829c-46c2-f73d-a64accc791b3"
      },
      "outputs": [
        {
          "data": {
            "text/latex": [
              "$\\displaystyle \\left[\\begin{matrix}2 & 1 & 2\\\\5 & 3 & 1\\\\1 & 1 & 5\\end{matrix}\\right]$"
            ],
            "text/plain": [
              "Matrix([\n",
              "[2, 1, 2],\n",
              "[5, 3, 1],\n",
              "[1, 1, 5]])"
            ]
          },
          "execution_count": 1,
          "metadata": {},
          "output_type": "execute_result"
        }
      ],
      "source": [
        "import sympy as sp # import sympy library\n",
        "k1 = sp.Matrix([[2, 1, 2], [5, 3, 1], [1, 1, 5]]) # create matrix k1\n",
        "k1"
      ]
    },
    {
      "cell_type": "code",
      "execution_count": null,
      "metadata": {
        "id": "aBQ_GFsUDUrC",
        "outputId": "bb62aa79-bfec-4a6b-857f-3d7092699688"
      },
      "outputs": [
        {
          "data": {
            "text/latex": [
              "$\\displaystyle \\left[\\begin{matrix}\\frac{7}{4} & - \\frac{3}{8} & - \\frac{5}{8}\\\\-3 & 1 & 1\\\\\\frac{1}{4} & - \\frac{1}{8} & \\frac{1}{8}\\end{matrix}\\right]$"
            ],
            "text/plain": [
              "Matrix([\n",
              "[7/4, -3/8, -5/8],\n",
              "[ -3,    1,    1],\n",
              "[1/4, -1/8,  1/8]])"
            ]
          },
          "execution_count": 2,
          "metadata": {},
          "output_type": "execute_result"
        }
      ],
      "source": [
        "inverse_k1 = k1.inv() # calculate the inverse of matrix k1\n",
        "inverse_k1"
      ]
    },
    {
      "cell_type": "code",
      "execution_count": null,
      "metadata": {
        "id": "Ht1WKpubDUrD",
        "outputId": "305661c6-aab8-487c-877a-20e66fa5395b"
      },
      "outputs": [
        {
          "data": {
            "text/latex": [
              "$\\displaystyle \\left[\\begin{matrix}1 & 0 & 0\\\\0 & 1 & 0\\\\0 & 0 & 1\\end{matrix}\\right]$"
            ],
            "text/plain": [
              "Matrix([\n",
              "[1, 0, 0],\n",
              "[0, 1, 0],\n",
              "[0, 0, 1]])"
            ]
          },
          "execution_count": 3,
          "metadata": {},
          "output_type": "execute_result"
        }
      ],
      "source": [
        "k1 * inverse_k1 # verify if multiplying the matrix by its inverse yields the identity matrix"
      ]
    },
    {
      "cell_type": "markdown",
      "metadata": {
        "id": "eCCpCAVYDUrD"
      },
      "source": [
        "**Example 2:**"
      ]
    },
    {
      "cell_type": "code",
      "execution_count": null,
      "metadata": {
        "id": "WIpn7kY0DUrE",
        "outputId": "384db79c-8766-4d36-d03c-656203480737"
      },
      "outputs": [
        {
          "data": {
            "text/latex": [
              "$\\displaystyle \\left[\\begin{matrix}\\frac{e i - f h}{a e i - a f h - b d i + b f g + c d h - c e g} & \\frac{- b i + c h}{a e i - a f h - b d i + b f g + c d h - c e g} & \\frac{b f - c e}{a e i - a f h - b d i + b f g + c d h - c e g}\\\\\\frac{- d i + f g}{a e i - a f h - b d i + b f g + c d h - c e g} & \\frac{a i - c g}{a e i - a f h - b d i + b f g + c d h - c e g} & \\frac{- a f + c d}{a e i - a f h - b d i + b f g + c d h - c e g}\\\\\\frac{d h - e g}{a e i - a f h - b d i + b f g + c d h - c e g} & \\frac{- a h + b g}{a e i - a f h - b d i + b f g + c d h - c e g} & \\frac{a e - b d}{a e i - a f h - b d i + b f g + c d h - c e g}\\end{matrix}\\right]$"
            ],
            "text/plain": [
              "Matrix([\n",
              "[ (e*i - f*h)/(a*e*i - a*f*h - b*d*i + b*f*g + c*d*h - c*e*g), (-b*i + c*h)/(a*e*i - a*f*h - b*d*i + b*f*g + c*d*h - c*e*g),  (b*f - c*e)/(a*e*i - a*f*h - b*d*i + b*f*g + c*d*h - c*e*g)],\n",
              "[(-d*i + f*g)/(a*e*i - a*f*h - b*d*i + b*f*g + c*d*h - c*e*g),  (a*i - c*g)/(a*e*i - a*f*h - b*d*i + b*f*g + c*d*h - c*e*g), (-a*f + c*d)/(a*e*i - a*f*h - b*d*i + b*f*g + c*d*h - c*e*g)],\n",
              "[ (d*h - e*g)/(a*e*i - a*f*h - b*d*i + b*f*g + c*d*h - c*e*g), (-a*h + b*g)/(a*e*i - a*f*h - b*d*i + b*f*g + c*d*h - c*e*g),  (a*e - b*d)/(a*e*i - a*f*h - b*d*i + b*f*g + c*d*h - c*e*g)]])"
            ]
          },
          "execution_count": 4,
          "metadata": {},
          "output_type": "execute_result"
        }
      ],
      "source": [
        "import sympy as sp\n",
        "a, b, c, d, e, f, g, h, i = sp.symbols('a b c d e f g h i') # define variables a-i\n",
        "k = sp.Matrix([[a, b, c], [d, e, f], [g, h, i]]) # create matrix k\n",
        "inverse_k = k.inv()\n",
        "inverse_k"
      ]
    },
    {
      "cell_type": "markdown",
      "metadata": {
        "id": "MOZ6Nf0lDUrE"
      },
      "source": [
        "This complex form results from the formula that allows for the calculation of the elements of the inverse matrix. Before we proceed, let's define a few concepts.\n",
        "\n",
        "**Matrix Transposition** is an operation that swaps rows with columns. The transpose of a matrix $A$ is a matrix $A^T$ such that $A^T_{ij} = A_{ji}$."
      ]
    },
    {
      "cell_type": "code",
      "execution_count": null,
      "metadata": {
        "id": "TTew0e45DUrF",
        "outputId": "3360fee8-3e70-4844-ac39-59e7067f0f3f"
      },
      "outputs": [
        {
          "data": {
            "text/latex": [
              "$\\displaystyle \\left[\\begin{matrix}a & b & c\\\\d & e & f\\\\g & h & i\\end{matrix}\\right]$"
            ],
            "text/plain": [
              "Matrix([\n",
              "[a, b, c],\n",
              "[d, e, f],\n",
              "[g, h, i]])"
            ]
          },
          "execution_count": 5,
          "metadata": {},
          "output_type": "execute_result"
        }
      ],
      "source": [
        "k"
      ]
    },
    {
      "cell_type": "code",
      "execution_count": null,
      "metadata": {
        "id": "4PNNrJLBDUrF",
        "outputId": "b23a9f2a-3070-4498-f896-7f83c5ed94e4"
      },
      "outputs": [
        {
          "data": {
            "text/latex": [
              "$\\displaystyle \\left[\\begin{matrix}a & d & g\\\\b & e & h\\\\c & f & i\\end{matrix}\\right]$"
            ],
            "text/plain": [
              "Matrix([\n",
              "[a, d, g],\n",
              "[b, e, h],\n",
              "[c, f, i]])"
            ]
          },
          "execution_count": 6,
          "metadata": {},
          "output_type": "execute_result"
        }
      ],
      "source": [
        "k.transpose() # transpose matrix k"
      ]
    },
    {
      "cell_type": "markdown",
      "metadata": {
        "id": "avU_fM2IDUrG"
      },
      "source": [
        "**Minor** of a matrix $A$ is the determinant of the matrix obtained by removing the $i$-th row and $j$-th column. We denote it by $M_{ij}$."
      ]
    },
    {
      "cell_type": "code",
      "execution_count": null,
      "metadata": {
        "id": "6mU670tsDUrG",
        "outputId": "79629956-7e52-4298-a9ce-687404863427"
      },
      "outputs": [
        {
          "data": {
            "text/latex": [
              "$\\displaystyle \\left[\\begin{matrix}1 & 2 & 3\\\\4 & 5 & 6\\\\7 & 8 & 9\\end{matrix}\\right]$"
            ],
            "text/plain": [
              "Matrix([\n",
              "[1, 2, 3],\n",
              "[4, 5, 6],\n",
              "[7, 8, 9]])"
            ]
          },
          "execution_count": 7,
          "metadata": {},
          "output_type": "execute_result"
        }
      ],
      "source": [
        "# Minor of matrix $A$ is the determinant of the matrix obtained by removing the $i$-th row and $j$-th column. We denote it by $M_{ij}$.\n",
        "k2 = sp.Matrix([[1, 2, 3], [4, 5, 6], [7, 8, 9]])\n",
        "k2"
      ]
    },
    {
      "cell_type": "code",
      "execution_count": null,
      "metadata": {
        "id": "jXZSrWizDUrH",
        "outputId": "95fc06b1-2504-4e23-ce76-3e1d37ce4744"
      },
      "outputs": [
        {
          "data": {
            "text/latex": [
              "$\\displaystyle \\left[\\begin{matrix}4 & 6\\\\7 & 9\\end{matrix}\\right]$"
            ],
            "text/plain": [
              "Matrix([\n",
              "[4, 6],\n",
              "[7, 9]])"
            ]
          },
          "execution_count": 8,
          "metadata": {},
          "output_type": "execute_result"
        }
      ],
      "source": [
        "M01 = k2.minor_submatrix(0, 1) # calculate minor M01\n",
        "M01"
      ]
    },
    {
      "cell_type": "code",
      "execution_count": null,
      "metadata": {
        "id": "kn-52TAVDUrH",
        "outputId": "fc734daa-41e3-47a3-d6b2-f608fe6dbaa4"
      },
      "outputs": [
        {
          "data": {
            "text/latex": [
              "$\\displaystyle \\left[\\begin{matrix}1 & 2\\\\4 & 5\\end{matrix}\\right]$"
            ],
            "text/plain": [
              "Matrix([\n",
              "[1, 2],\n",
              "[4, 5]])"
            ]
          },
          "execution_count": 9,
          "metadata": {},
          "output_type": "execute_result"
        }
      ],
      "source": [
        "M22 = k2.minor_submatrix(2, 2) # calculate minor M22\n",
        "M22"
      ]
    },
    {
      "cell_type": "markdown",
      "metadata": {
        "id": "LQVQYxgaDUrH"
      },
      "source": [
        "**Cofactor** of element $a_{ij} = (-1)^{i+j} \\, M_{ij}$, which is the minor multiplied by $(-1)^{i+j}$.\n",
        "\n",
        "**Rank of a Matrix** is the largest degree of a non-zero minor of the matrix. The rank of a matrix is equal to the number of linearly independent rows or columns in the matrix."
      ]
    },
    {
      "cell_type": "code",
      "execution_count": null,
      "metadata": {
        "id": "1xIVfQz1DUrI",
        "outputId": "1e23a57c-d336-4a15-8ba1-94de9e276c61"
      },
      "outputs": [
        {
          "data": {
            "text/plain": [
              "2"
            ]
          },
          "execution_count": 10,
          "metadata": {},
          "output_type": "execute_result"
        }
      ],
      "source": [
        "k2.rank() # calculate the rank of matrix k2"
      ]
    },
    {
      "cell_type": "markdown",
      "metadata": {
        "id": "qaZwuNz7DUrI"
      },
      "source": [
        "### Inverse of a 3x3 Matrix\n",
        "\n",
        "Using the transpose of the cofactor matrix (minors):\n",
        "\n",
        "$$K^{-1} =\n",
        "\\begin{bmatrix}\n",
        "a & b & c \\\\\n",
        "d & e & f \\\\\n",
        "g & h & i\n",
        "\\end{bmatrix}^{-1}\n",
        "= \\frac{1}{\\det(\\mathbf{K})}\n",
        "\\begin{bmatrix}\n",
        "A & B & C \\\\\n",
        "D & E & F \\\\\n",
        "G & H & I\n",
        "\\end{bmatrix}^T\n",
        "= \\frac{1}{\\det(\\mathbf{A})}\n",
        "\\begin{bmatrix}\n",
        "A & D & G \\\\\n",
        "B & E & H \\\\\n",
        "C & F & I\n",
        "\\end{bmatrix}\n",
        "$$\n",
        "\n",
        "If the determinant is non-zero, the matrix is invertible, and the elements of the intermediate matrix on the right-hand side of the above formula are determined by:\n",
        "\n",
        "$$\n",
        "\\begin{aligned}\n",
        "A &= \\text{det} \\left( \\begin{bmatrix} e & f \\\\ h & i \\end{bmatrix} \\right) & B &= -\\text{det} \\left( \\begin{bmatrix} d & f \\\\ g & i \\end{bmatrix} \\right) & C &= \\text{det} \\left( \\begin{bmatrix} d & e \\\\ g & h \\end{bmatrix} \\right) \\\\\n",
        "D &= -\\text{det} \\left( \\begin{bmatrix} b & c \\\\ h & i \\end{bmatrix} \\right) & E &= \\text{det} \\left( \\begin{bmatrix} a & c \\\\ g & i \\end{bmatrix} \\right) & F &= -\\text{det} \\left( \\begin{bmatrix} a & b \\\\ g & h \\end{bmatrix} \\right) \\\\\n",
        "G &= \\text{det} \\left( \\begin{bmatrix} b & c \\\\ e & f \\end{bmatrix} \\right) & H &= -\\text{det} \\left( \\begin{bmatrix} a & c \\\\ d & f \\end{bmatrix} \\right) & I &= \\text{det} \\left( \\begin{bmatrix} a & b \\\\ d & e \\end{bmatrix} \\right)\n",
        "\\end{aligned}\n",
        "$$\n",
        "\n",
        "These are the determinants of 2x2 matrices formed by removing the appropriate rows and columns and taking into account the sign $(-1)^{i+j}$.\n",
        "\n",
        "### Inverse of a 2x2 Matrix\n",
        "\n",
        "Similarly, for a 2x2 matrix, the inverse can be calculated using the cofactor matrix:\n",
        "\n",
        "$$\n",
        "\\mathbf{L}^{-1} =\n",
        "\\begin{bmatrix}\n",
        "a & b \\\\\n",
        "c & d\n",
        "\\end{bmatrix}^{-1}\n",
        "= \\frac{1}{\\det(\\mathbf{L})}\n",
        "\\begin{bmatrix}\n",
        "D & C \\\\\n",
        "B & A\n",
        "\\end{bmatrix}^T\n",
        "= \\frac{1}{\\det(\\mathbf{L})}\n",
        "\\begin{bmatrix}\n",
        "D & B \\\\\n",
        "C & A\n",
        "\\end{bmatrix}\n",
        "$$\n",
        "\n",
        "where $\\det(\\mathbf{L}) = ad - bc$\n",
        "\n",
        "If the determinant is non-zero, the matrix is invertible, and the elements of the intermediate matrix are given as:\n",
        "\n",
        "$$\n",
        "\\begin{aligned}\n",
        "A &= \\text{det} \\begin{bmatrix} d \\end{bmatrix} = d, & B &= -\\text{det} \\begin{bmatrix} b \\end{bmatrix} = -b, & C &= -\\text{det} \\begin{bmatrix} c \\end{bmatrix} = -c, &\n",
        "D &= \\text{det} \\begin{bmatrix} a \\end{bmatrix} = a.\n",
        "\\end{aligned}\n",
        "$$\n",
        "\n",
        "These elements are determined by calculating the determinants of 1x1 matrices formed by removing the appropriate rows and columns from the original 2x2 matrix and applying the corresponding signs $(-1)^{i+j}$."
      ]
    },
    {
      "cell_type": "markdown",
      "metadata": {
        "id": "fpS76_uyDUrI"
      },
      "source": [
        "---\n",
        "\n",
        "## Exercises for Students\n",
        "\n",
        "1. Find the inverse matrix for\n",
        "\n",
        "$$\n",
        "\\begin{bmatrix}\n",
        "2 & 0 & 1 \\\\\n",
        "0 & 1 & 0 \\\\\n",
        "1 & 2 & 0\n",
        "\\end{bmatrix}\n",
        "$$\n",
        "\n",
        "and verify if the result is correct.\n",
        "\n",
        "2. Using the `det()` command, determine the rank of the matrix below\n",
        "$$\n",
        "A =\n",
        "\\begin{bmatrix}\n",
        "4 & -3 & 7 \\\\\n",
        "-1 & 6 & 3 \\\\\n",
        "2 & 9 & 1\n",
        "\\end{bmatrix}\n",
        "$$"
      ]
    },
    {
      "cell_type": "code",
      "source": [
        "import sympy as sp\n",
        "\n",
        "# Exercise 1: Find the inverse of the matrix\n",
        "matrix = sp.Matrix([[2, 0, 1],\n",
        "                     [0, 1, 0],\n",
        "                     [1, 2, 0]])\n",
        "\n",
        "# Calculate the inverse\n",
        "inverse_matrix = matrix.inv()\n",
        "\n",
        "# Verify the result by multiplying the original matrix and its inverse\n",
        "identity_matrix = matrix * inverse_matrix\n",
        "\n",
        "# Display the results\n",
        "print(\"Original Matrix:\\n\", matrix)\n",
        "print(\"Inverse Matrix:\\n\", inverse_matrix)\n",
        "print(\"Verification (Original Matrix * Inverse Matrix):\\n\", identity_matrix)\n",
        "\n",
        "# Exercise 2: Determine the rank using the det() command\n",
        "A = sp.Matrix([[4, -3, 7],\n",
        "                [-1, 6, 3],\n",
        "                [2, 9, 1]])\n",
        "\n",
        "# Function to calculate the rank using determinants\n",
        "def calculate_rank_using_dets(matrix):\n",
        "    rank = 0\n",
        "    # Check determinants of submatrices from size 1 to the size of the matrix\n",
        "    for size in range(1, matrix.shape[0] + 1):\n",
        "        # Iterate through all possible top-left corners for submatrices\n",
        "        for i in range(matrix.shape[0] - size + 1):\n",
        "            for j in range(matrix.shape[1] - size + 1):\n",
        "                # Get the submatrix\n",
        "                submatrix = matrix[i:i + size, j:j + size]\n",
        "                # Check if the determinant of this submatrix is non-zero\n",
        "                if submatrix.det() != 0:\n",
        "                    rank = size  # Update the rank to the current size\n",
        "    return rank\n",
        "\n",
        "# Calculate the rank using determinants\n",
        "rank_A = calculate_rank_using_dets(A)\n",
        "\n",
        "# Display the rank\n",
        "print(\"Rank of Matrix A using determinants:\", rank_A)\n"
      ],
      "metadata": {
        "id": "vRr_P9ALFSz3",
        "outputId": "fc1d48fc-811c-40fb-c3c5-faebe33deffa",
        "colab": {
          "base_uri": "https://localhost:8080/"
        }
      },
      "execution_count": 2,
      "outputs": [
        {
          "output_type": "stream",
          "name": "stdout",
          "text": [
            "Original Matrix:\n",
            " Matrix([[2, 0, 1], [0, 1, 0], [1, 2, 0]])\n",
            "Inverse Matrix:\n",
            " Matrix([[0, -2, 1], [0, 1, 0], [1, 4, -2]])\n",
            "Verification (Original Matrix * Inverse Matrix):\n",
            " Matrix([[1, 0, 0], [0, 1, 0], [0, 0, 1]])\n",
            "Rank of Matrix A using determinants: 3\n"
          ]
        }
      ]
    }
  ],
  "metadata": {
    "kernelspec": {
      "display_name": "Python 3",
      "language": "python",
      "name": "python3"
    },
    "language_info": {
      "codemirror_mode": {
        "name": "ipython",
        "version": 3
      },
      "file_extension": ".py",
      "mimetype": "text/x-python",
      "name": "python",
      "nbconvert_exporter": "python",
      "pygments_lexer": "ipython3",
      "version": "3.11.9"
    },
    "colab": {
      "provenance": [],
      "include_colab_link": true
    }
  },
  "nbformat": 4,
  "nbformat_minor": 0
}